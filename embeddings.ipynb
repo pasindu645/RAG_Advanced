{
 "cells": [
  {
   "cell_type": "code",
   "execution_count": 1,
   "id": "1c8a5fe1-1e89-4cb7-9737-0261cbfa86ba",
   "metadata": {},
   "outputs": [],
   "source": [
    "from sentence_transformers import SentenceTransformer\n",
    "import numpy as np"
   ]
  },
  {
   "cell_type": "code",
   "execution_count": 2,
   "id": "bae38f03-5a37-4d9a-bad1-e3178d3de051",
   "metadata": {},
   "outputs": [],
   "source": [
    "def text_embedding(text) -> None:\n",
    "    model = SentenceTransformer('sentence-transformers/all-MiniLM-L6-v2')\n",
    "    return model.encode(text,normalize_embeddings=True)"
   ]
  },
  {
   "cell_type": "code",
   "execution_count": 3,
   "id": "99485095-b036-461a-9fb6-ae41fafdaabe",
   "metadata": {},
   "outputs": [
    {
     "data": {
      "application/vnd.jupyter.widget-view+json": {
       "model_id": "84949333498444e7959f89e0ac2fba80",
       "version_major": 2,
       "version_minor": 0
      },
      "text/plain": [
       "modules.json:   0%|          | 0.00/349 [00:00<?, ?B/s]"
      ]
     },
     "metadata": {},
     "output_type": "display_data"
    },
    {
     "name": "stderr",
     "output_type": "stream",
     "text": [
      "g:\\Pasindu\\My_projects\\RAG_Advanced\\Advanced\\lib\\site-packages\\huggingface_hub\\file_download.py:149: UserWarning: `huggingface_hub` cache-system uses symlinks by default to efficiently store duplicated files but your machine does not support them in C:\\Users\\Pasindu Temp\\.cache\\huggingface\\hub\\models--sentence-transformers--all-MiniLM-L6-v2. Caching files will still work but in a degraded version that might require more space on your disk. This warning can be disabled by setting the `HF_HUB_DISABLE_SYMLINKS_WARNING` environment variable. For more details, see https://huggingface.co/docs/huggingface_hub/how-to-cache#limitations.\n",
      "To support symlinks on Windows, you either need to activate Developer Mode or to run Python as an administrator. In order to see activate developer mode, see this article: https://docs.microsoft.com/en-us/windows/apps/get-started/enable-your-device-for-development\n",
      "  warnings.warn(message)\n"
     ]
    },
    {
     "data": {
      "application/vnd.jupyter.widget-view+json": {
       "model_id": "3cd6dd73659c410a8e8bdae7c3bbf03c",
       "version_major": 2,
       "version_minor": 0
      },
      "text/plain": [
       "config_sentence_transformers.json:   0%|          | 0.00/116 [00:00<?, ?B/s]"
      ]
     },
     "metadata": {},
     "output_type": "display_data"
    },
    {
     "data": {
      "application/vnd.jupyter.widget-view+json": {
       "model_id": "1c194bcabdcf41b89ba0c17739f8202b",
       "version_major": 2,
       "version_minor": 0
      },
      "text/plain": [
       "README.md:   0%|          | 0.00/10.6k [00:00<?, ?B/s]"
      ]
     },
     "metadata": {},
     "output_type": "display_data"
    },
    {
     "data": {
      "application/vnd.jupyter.widget-view+json": {
       "model_id": "7791e92c10924283b65e34d365a365ca",
       "version_major": 2,
       "version_minor": 0
      },
      "text/plain": [
       "sentence_bert_config.json:   0%|          | 0.00/53.0 [00:00<?, ?B/s]"
      ]
     },
     "metadata": {},
     "output_type": "display_data"
    },
    {
     "data": {
      "application/vnd.jupyter.widget-view+json": {
       "model_id": "44e4e3edf272401eabede3d692b0c603",
       "version_major": 2,
       "version_minor": 0
      },
      "text/plain": [
       "config.json:   0%|          | 0.00/612 [00:00<?, ?B/s]"
      ]
     },
     "metadata": {},
     "output_type": "display_data"
    },
    {
     "data": {
      "application/vnd.jupyter.widget-view+json": {
       "model_id": "e3d27e21c2be40b3afc3b601aa6d04dc",
       "version_major": 2,
       "version_minor": 0
      },
      "text/plain": [
       "pytorch_model.bin:   0%|          | 0.00/90.9M [00:00<?, ?B/s]"
      ]
     },
     "metadata": {},
     "output_type": "display_data"
    },
    {
     "data": {
      "application/vnd.jupyter.widget-view+json": {
       "model_id": "dc5ddc550e05470197b0a8ea8cd3aead",
       "version_major": 2,
       "version_minor": 0
      },
      "text/plain": [
       "tokenizer_config.json:   0%|          | 0.00/350 [00:00<?, ?B/s]"
      ]
     },
     "metadata": {},
     "output_type": "display_data"
    },
    {
     "data": {
      "application/vnd.jupyter.widget-view+json": {
       "model_id": "f0e69f35b78c452983d1cb0eeedea7bd",
       "version_major": 2,
       "version_minor": 0
      },
      "text/plain": [
       "vocab.txt:   0%|          | 0.00/232k [00:00<?, ?B/s]"
      ]
     },
     "metadata": {},
     "output_type": "display_data"
    },
    {
     "data": {
      "application/vnd.jupyter.widget-view+json": {
       "model_id": "0fd8f50dc7ab420aad7bb8375b2aee8d",
       "version_major": 2,
       "version_minor": 0
      },
      "text/plain": [
       "tokenizer.json:   0%|          | 0.00/466k [00:00<?, ?B/s]"
      ]
     },
     "metadata": {},
     "output_type": "display_data"
    },
    {
     "data": {
      "application/vnd.jupyter.widget-view+json": {
       "model_id": "87d51477455a41668597747c42c20eb7",
       "version_major": 2,
       "version_minor": 0
      },
      "text/plain": [
       "special_tokens_map.json:   0%|          | 0.00/112 [00:00<?, ?B/s]"
      ]
     },
     "metadata": {},
     "output_type": "display_data"
    },
    {
     "data": {
      "application/vnd.jupyter.widget-view+json": {
       "model_id": "d48408930e104733ae592b65510de699",
       "version_major": 2,
       "version_minor": 0
      },
      "text/plain": [
       "1_Pooling/config.json:   0%|          | 0.00/190 [00:00<?, ?B/s]"
      ]
     },
     "metadata": {},
     "output_type": "display_data"
    }
   ],
   "source": [
    "phrase1=\"banana is a fruit\"\n",
    "embedding1=text_embedding(phrase1)"
   ]
  },
  {
   "cell_type": "code",
   "execution_count": 8,
   "id": "e4710f62-c3a0-4c79-af38-5e7d763bf7f2",
   "metadata": {},
   "outputs": [],
   "source": [
    "phrase2=\"banana leaves are very useful to rap the rice and curry\"\n",
    "embedding2=text_embedding(phrase2)"
   ]
  },
  {
   "cell_type": "code",
   "execution_count": 4,
   "id": "8398ce1a-60df-4d3f-ac03-957d12c43aee",
   "metadata": {},
   "outputs": [
    {
     "data": {
      "text/plain": [
       "384"
      ]
     },
     "execution_count": 4,
     "metadata": {},
     "output_type": "execute_result"
    }
   ],
   "source": [
    "len(embedding1)"
   ]
  },
  {
   "cell_type": "code",
   "execution_count": 5,
   "id": "90473f3d",
   "metadata": {},
   "outputs": [
    {
     "name": "stdout",
     "output_type": "stream",
     "text": [
      "[ 1.27579644e-02  2.09209491e-02 -1.17286220e-02  1.68329477e-02\n",
      " -3.34242941e-04  6.77457526e-02  7.80426860e-02 -8.28381535e-03\n",
      "  2.56325491e-02  7.95057714e-02  5.16052842e-02 -9.68770310e-02\n",
      " -8.15333892e-03 -3.55146267e-02  1.06961839e-01  6.58961071e-04\n",
      " -1.83517188e-02  8.72781500e-03 -7.17699677e-02 -2.41923649e-02\n",
      "  3.57554965e-02  6.24902248e-02 -4.72279787e-02 -1.56392213e-02\n",
      " -1.60393969e-03  3.70442346e-02  1.72946211e-02  1.49717284e-02\n",
      "  2.74046753e-02 -3.55032422e-02 -5.77169321e-02  3.07262801e-02\n",
      "  6.63777590e-02  4.21240516e-02 -3.63475531e-02 -3.14856246e-02\n",
      "  5.33613190e-02 -7.01460019e-02  4.71213274e-02 -5.09860041e-03\n",
      "  2.86965491e-03  5.84887043e-02  2.00177301e-02 -4.87713814e-02\n",
      " -1.53063145e-02  7.57076517e-02  3.77897918e-02 -1.23428181e-02\n",
      "  8.25281143e-02 -7.57332072e-02 -6.53610453e-02 -2.06159055e-02\n",
      " -7.44509846e-02 -4.56243493e-02 -1.77135260e-03  1.07029751e-02\n",
      "  3.29227112e-02 -2.02351008e-02  9.68402848e-02  5.91285229e-02\n",
      "  1.89280510e-02 -7.32181370e-02  3.22379358e-02 -2.17286684e-03\n",
      "  4.77223285e-02 -5.20121381e-02 -7.91123062e-02 -2.33651903e-02\n",
      "  8.20261333e-03 -1.94772929e-02  2.66167298e-02  1.96535476e-02\n",
      "  3.35685611e-02  1.06355682e-01 -1.10315345e-01  4.59391773e-02\n",
      "  6.50845617e-02  5.33879688e-03 -6.54457062e-02  5.95618151e-02\n",
      " -6.57700077e-02 -2.90525761e-02 -7.56866066e-03 -6.29966334e-02\n",
      "  1.83268618e-02  3.69724296e-02  2.35013873e-03 -7.09091052e-02\n",
      " -9.75095704e-02  6.62816912e-02 -1.16326539e-02  2.95521598e-02\n",
      "  8.23118091e-02  1.26875453e-02 -3.32159102e-02 -7.42226988e-02\n",
      " -1.52638070e-02 -9.08336863e-02 -2.96749417e-02  1.22945152e-01\n",
      "  3.27301770e-02  7.37337396e-02  4.28603813e-02 -2.01825630e-02\n",
      " -1.34702483e-02  1.57259405e-02 -6.24507433e-03 -4.09436673e-02\n",
      "  8.91891345e-02  6.94583505e-02  1.65569782e-02  2.29438115e-03\n",
      " -6.09852895e-02  5.72874546e-02 -7.33011812e-02 -2.05608662e-02\n",
      " -5.13470313e-03 -2.65290379e-03 -2.11979542e-02  5.82861118e-02\n",
      "  2.81517357e-02 -1.71773372e-05  3.03595066e-02 -2.65803356e-02\n",
      " -2.92983372e-03 -6.66991770e-02  2.75862459e-02 -4.56107273e-33\n",
      " -2.43884139e-02 -8.52943305e-03  5.51075637e-02 -2.39959713e-02\n",
      "  5.70933446e-02 -9.43328720e-03 -6.64102212e-02  6.11054488e-02\n",
      "  1.09383486e-01 -5.30422963e-02 -1.01143226e-01 -1.45960366e-02\n",
      " -6.76741004e-02  2.29978072e-03 -2.23013442e-02  4.57280241e-02\n",
      " -2.77040042e-02  1.72342546e-02  2.12252047e-02  1.07304482e-02\n",
      " -8.23413730e-02 -2.64104158e-02 -3.38263274e-03 -1.01250611e-01\n",
      " -5.85014671e-02 -5.10445759e-02  3.01692560e-02 -8.95896852e-02\n",
      "  9.33190286e-02  6.29756367e-03 -4.19379212e-03  2.85957847e-02\n",
      "  2.86751296e-02 -2.47724298e-02 -5.61488979e-02 -8.37892517e-02\n",
      "  5.07020503e-02 -1.75353307e-02  1.68158654e-02  1.59765035e-02\n",
      "  2.05529891e-02 -3.86242084e-02 -2.68214662e-02  9.76041332e-02\n",
      " -2.40644123e-02  2.88902596e-02  3.39921340e-02 -1.12715960e-02\n",
      " -1.53428987e-02 -2.09756941e-02 -5.99163324e-02 -6.98821992e-02\n",
      "  3.06759402e-02 -9.45493171e-04  4.05308045e-02 -7.34224617e-02\n",
      "  4.39638412e-03  4.20531482e-02 -7.61066079e-02  6.74895337e-03\n",
      "  4.41511348e-02  6.62367269e-02  9.22871381e-03  5.22261038e-02\n",
      " -8.43571275e-02  6.01331294e-02 -4.25569378e-02  4.68324550e-04\n",
      "  7.71586224e-02 -6.77435249e-02 -4.71561309e-03 -5.60743734e-02\n",
      "  1.19567372e-01 -2.41035526e-03 -7.39760771e-02 -4.07779813e-02\n",
      "  1.27541255e-02 -9.52335540e-03 -7.28306780e-03  7.00776577e-02\n",
      " -4.13787365e-02 -4.45425212e-02  5.73617965e-03 -6.38219109e-03\n",
      " -8.37557837e-02  1.03336915e-01  3.77162592e-04 -8.27220753e-02\n",
      "  5.56620099e-02 -4.48111929e-02 -1.51300002e-02 -2.61301696e-02\n",
      "  3.58167738e-02 -3.74537632e-02 -2.77649853e-02  3.03310511e-33\n",
      " -6.25816062e-02  3.29050086e-02 -4.70500207e-03  4.71332483e-02\n",
      "  4.51674201e-02 -4.88328822e-02  2.75180042e-02 -2.40615644e-02\n",
      " -1.44849658e-01 -8.21257979e-02 -8.74921605e-02 -2.59506777e-02\n",
      "  6.21811207e-03 -7.64014572e-02  6.53496161e-02  6.45909682e-02\n",
      "  9.46852788e-02  5.44661433e-02 -4.39205579e-02  2.31514988e-03\n",
      " -5.74457347e-02 -4.70225746e-03  2.62633478e-03 -2.33893469e-02\n",
      " -4.18366631e-03  4.60776687e-02  2.67551951e-02 -4.88817729e-02\n",
      " -7.09293410e-03  3.19647882e-03  5.11375815e-02 -2.00456828e-02\n",
      " -3.64511274e-02  4.65679308e-03 -2.54664030e-02 -3.12013663e-02\n",
      " -3.51349935e-02 -1.29015625e-01 -3.32604386e-02  5.68411686e-02\n",
      "  5.60163595e-02  2.59177256e-02  5.60567807e-03  9.66854915e-02\n",
      " -3.98444980e-02 -3.50774601e-02  1.26101589e-02  9.81636997e-03\n",
      "  6.47200420e-02  4.23534960e-02  1.45207783e-02  2.08177827e-02\n",
      " -4.58089728e-03 -4.66734394e-02  6.62159221e-03  4.77709109e-03\n",
      " -3.00692283e-02 -6.51205704e-03 -8.41935724e-02  3.89731564e-02\n",
      "  8.62591248e-03 -5.72719462e-02 -1.93141587e-02 -2.13408414e-02\n",
      "  1.16553223e-02  7.96798542e-02  3.35223861e-02  4.61288393e-02\n",
      " -8.53657897e-04  4.26854193e-02  3.12355440e-02  3.26990075e-02\n",
      "  1.45026017e-02 -1.39999650e-02 -6.01980314e-02  1.08041689e-01\n",
      "  4.41229455e-02 -1.17384136e-01 -4.91828397e-02 -6.45020977e-02\n",
      " -6.88821375e-02 -2.55526099e-02 -3.23395506e-02  3.88135277e-02\n",
      " -6.92262501e-02  6.36105314e-02  1.28250532e-02  2.85886880e-02\n",
      " -1.47984065e-02  9.83211547e-02 -1.72937773e-02 -3.07944901e-02\n",
      "  1.53508158e-02  5.83087169e-02 -2.39325003e-04 -1.23958994e-08\n",
      "  5.38193733e-02 -7.99669102e-02 -2.28959974e-03  2.99230162e-02\n",
      "  4.87298034e-02  1.15469933e-01  1.06887333e-02 -4.55112867e-02\n",
      "  3.32304277e-02  1.64690986e-02 -8.72955918e-02  3.62631716e-02\n",
      " -5.44726811e-02  1.08273685e-01  3.07251718e-02 -2.61831600e-02\n",
      "  3.42789479e-02  4.26839814e-02 -1.86874978e-02  9.05020088e-02\n",
      " -8.74191001e-02  1.73672382e-02 -4.34761383e-02 -1.99208949e-02\n",
      "  2.30874517e-03 -1.99025590e-02 -7.50877559e-02  1.19094379e-01\n",
      "  3.11417561e-02  5.17121516e-02  5.32990955e-02  1.95137430e-02\n",
      " -7.28749335e-02 -2.56657065e-03  1.43989353e-02 -3.56863402e-02\n",
      "  8.79057497e-02  9.75701120e-03 -7.40176886e-02 -1.01112045e-01\n",
      "  3.31284627e-02  3.03369556e-02 -9.17139873e-02  6.96477816e-02\n",
      " -4.83269878e-02  1.28516194e-03  8.14883318e-03  4.58722077e-02\n",
      " -6.75012469e-02  4.60691936e-02  3.70180756e-02  5.34147508e-02\n",
      "  4.87547815e-02  4.07646820e-02 -1.07134646e-02 -8.11952353e-02\n",
      " -3.05820685e-02 -6.48582494e-03 -5.26115745e-02  1.32843524e-01\n",
      "  2.38141865e-02 -3.78406346e-02  5.86393960e-02  1.96327735e-02]\n"
     ]
    }
   ],
   "source": [
    "print(embedding1)"
   ]
  },
  {
   "cell_type": "code",
   "execution_count": 9,
   "id": "320b77be-cd59-4fd5-98c9-22cdd6a23133",
   "metadata": {},
   "outputs": [
    {
     "data": {
      "text/plain": [
       "384"
      ]
     },
     "execution_count": 9,
     "metadata": {},
     "output_type": "execute_result"
    }
   ],
   "source": [
    "len(embedding2)"
   ]
  },
  {
   "cell_type": "code",
   "execution_count": 7,
   "id": "fda52bfb-08d4-4eb5-91bf-6cda86de1fb1",
   "metadata": {},
   "outputs": [],
   "source": [
    "phrase3=\"grapes is a fruit\"\n",
    "embedding3=text_embedding(phrase3) "
   ]
  },
  {
   "cell_type": "code",
   "execution_count": 10,
   "id": "5fa72204-f310-4487-a7d2-6a58aa4e7a79",
   "metadata": {},
   "outputs": [],
   "source": [
    "phrase4=\"There is a new Apple iPhone\"\n",
    "embedding4=text_embedding(phrase4)"
   ]
  },
  {
   "cell_type": "code",
   "execution_count": 11,
   "id": "fee6ace4-4ec4-46fd-a04d-1070e8d277f4",
   "metadata": {},
   "outputs": [],
   "source": [
    "def vector_similarity(vec1, vec2):\n",
    "    return np.dot(np.squeeze(np.array(vec1)),np.squeeze(np.array(vec2)))"
   ]
  },
  {
   "cell_type": "code",
   "execution_count": 14,
   "id": "a3e81fea-7e5c-42a8-8084-940d5ccd90a7",
   "metadata": {},
   "outputs": [
    {
     "name": "stdout",
     "output_type": "stream",
     "text": [
      "0.6527566\n",
      "0.115581505\n"
     ]
    }
   ],
   "source": [
    "print(vector_similarity(embedding1,embedding3))\n",
    "print(vector_similarity(embedding1,embedding4))"
   ]
  },
  {
   "cell_type": "code",
   "execution_count": 14,
   "id": "42992c5c-9957-41b8-bc71-50dc25b7ece1",
   "metadata": {},
   "outputs": [
    {
     "name": "stdout",
     "output_type": "stream",
     "text": [
      "0.15007734\n",
      "0.6433085\n"
     ]
    }
   ],
   "source": [
    "print(vector_similarity(embedding2,embedding3))\n",
    "print(vector_similarity(embedding2,embedding4))"
   ]
  },
  {
   "cell_type": "code",
   "execution_count": null,
   "id": "9d4ccfd6-11aa-4d6c-abd5-e5ce68a2b8c2",
   "metadata": {},
   "outputs": [],
   "source": []
  }
 ],
 "metadata": {
  "kernelspec": {
   "display_name": "Python 3 (ipykernel)",
   "language": "python",
   "name": "python3"
  },
  "language_info": {
   "codemirror_mode": {
    "name": "ipython",
    "version": 3
   },
   "file_extension": ".py",
   "mimetype": "text/x-python",
   "name": "python",
   "nbconvert_exporter": "python",
   "pygments_lexer": "ipython3",
   "version": "3.10.0"
  }
 },
 "nbformat": 4,
 "nbformat_minor": 5
}
